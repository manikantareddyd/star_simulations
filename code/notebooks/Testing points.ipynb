{
 "cells": [
  {
   "cell_type": "markdown",
   "metadata": {},
   "source": [
    "# Stars That Leave\n",
    "Lets find out which stars leave the system by the end of 18th snapshot and leave them out of our analysis"
   ]
  },
  {
   "cell_type": "code",
   "execution_count": 3,
   "metadata": {
    "collapsed": false
   },
   "outputs": [
    {
     "data": {
      "text/plain": [
       "['c_0200.csv',\n",
       " 'c_0700.csv',\n",
       " 'c_1500.csv',\n",
       " 'c_0500.csv',\n",
       " 'c_1100.csv',\n",
       " 'c_1700.csv',\n",
       " 'c_0800.csv',\n",
       " 'c_1300.csv',\n",
       " 'c_0600.csv',\n",
       " 'c_0000.csv',\n",
       " 'c_1800.csv',\n",
       " 'c_1000.csv',\n",
       " 'c_0300.csv',\n",
       " 'c_0900.csv',\n",
       " 'c_0400.csv',\n",
       " 'c_1600.csv',\n",
       " 'c_1400.csv',\n",
       " 'c_0100.csv']"
      ]
     },
     "execution_count": 3,
     "metadata": {},
     "output_type": "execute_result"
    }
   ],
   "source": [
    "from os import listdir\n",
    "\n",
    "files =[i for i in listdir(\"../data\") if '.csv' in i]\n",
    "files"
   ]
  },
  {
   "cell_type": "code",
   "execution_count": 5,
   "metadata": {
    "collapsed": false
   },
   "outputs": [
    {
     "data": {
      "text/plain": [
       "18"
      ]
     },
     "execution_count": 5,
     "metadata": {},
     "output_type": "execute_result"
    }
   ],
   "source": [
    "import numpy as np\n",
    "snapshots = [np.genfromtxt(\"../data/\"+file, delimiter=',', dtype=None, names=True) for  file in files] \n",
    "len(snapshots)"
   ]
  },
  {
   "cell_type": "markdown",
   "metadata": {},
   "source": [
    "So there are a total of 18 snapshots, each snapshot has about 64000 different stars in it."
   ]
  },
  {
   "cell_type": "code",
   "execution_count": 8,
   "metadata": {
    "collapsed": false
   },
   "outputs": [
    {
     "data": {
      "text/plain": [
       "array([43837, 51649,     4, ..., 63998, 63999, 64000])"
      ]
     },
     "execution_count": 8,
     "metadata": {},
     "output_type": "execute_result"
    }
   ],
   "source": [
    "snapshots[0]['id']"
   ]
  },
  {
   "cell_type": "markdown",
   "metadata": {},
   "source": [
    "In order to figure out which stars leave at every snapshot, all we have to do is perform a set difference operation on the current and previous snapshots over id"
   ]
  },
  {
   "cell_type": "code",
   "execution_count": 10,
   "metadata": {
    "collapsed": false
   },
   "outputs": [
    {
     "name": "stdout",
     "output_type": "stream",
     "text": [
      "********\n",
      "Snapshot:  1\n",
      "Current Number of stars:  63987\n",
      "********\n",
      "Snapshot:  2\n",
      "Current Number of stars:  63977\n",
      "********\n",
      "Snapshot:  3\n",
      "Current Number of stars:  63990\n",
      "Stars That left:  {34497, 10466, 35526, 54442, 26765, 47597, 19600, 46544, 22770, 59636, 46586, 6621, 63358}\n",
      "********\n",
      "Snapshot:  4\n",
      "Current Number of stars:  63983\n",
      "********\n",
      "Snapshot:  5\n",
      "Current Number of stars:  63973\n",
      "********\n",
      "Snapshot:  6\n",
      "Current Number of stars:  63985\n",
      "Stars That left:  {10466, 49827, 50170, 35526, 54442, 59117, 29582, 19600, 22770, 59636, 46586, 63358}\n",
      "********\n",
      "Snapshot:  7\n",
      "Current Number of stars:  63981\n",
      "********\n",
      "Snapshot:  8\n",
      "Current Number of stars:  63989\n",
      "Stars That left:  {34497, 54442, 47597, 26765, 19600, 46544, 46586, 63358}\n",
      "********\n",
      "Snapshot:  9\n",
      "Current Number of stars:  64000\n",
      "Stars That left:  {5856, 23650, 57698, 1797, 50534, 53000, 3150, 57839, 26771, 38199, 6621}\n",
      "********\n",
      "Snapshot:  10\n",
      "Current Number of stars:  63970\n",
      "********\n",
      "Snapshot:  11\n",
      "Current Number of stars:  63983\n",
      "Stars That left:  {10466, 49827, 50170, 35526, 54442, 8011, 59117, 29582, 16750, 4591, 22770, 59636, 46586}\n",
      "********\n",
      "Snapshot:  12\n",
      "Current Number of stars:  63993\n",
      "Stars That left:  {34497, 57698, 53000, 26765, 47597, 19600, 46544, 38199, 6621, 63358}\n",
      "********\n",
      "Snapshot:  13\n",
      "Current Number of stars:  63984\n",
      "********\n",
      "Snapshot:  14\n",
      "Current Number of stars:  63992\n",
      "Stars That left:  {34497, 53000, 26765, 47597, 19600, 46544, 38199, 6621}\n",
      "********\n",
      "Snapshot:  15\n",
      "Current Number of stars:  63976\n",
      "********\n",
      "Snapshot:  16\n",
      "Current Number of stars:  63978\n",
      "Stars That left:  {50170, 35526}\n",
      "********\n",
      "Snapshot:  17\n",
      "Current Number of stars:  63997\n",
      "Stars That left:  {5856, 34497, 10466, 23650, 57698, 1797, 53000, 54442, 26765, 3150, 47597, 19600, 46544, 22770, 59636, 38199, 46586, 6621, 63358}\n"
     ]
    }
   ],
   "source": [
    "stars_that_leave = []\n",
    "for i in range(1,len(snapshots)):\n",
    "    print(\"*\"*8)\n",
    "    print(\"Snapshot: \", i)\n",
    "    print(\"Current Number of stars: \", snapshots[i].shape[0])\n",
    "    tmp = set(list(snapshots[i]['id']))-set(list(snapshots[i-1]['id']))\n",
    "    if len(tmp)!=0:\n",
    "        print(\"Stars That left: \", tmp)\n",
    "    stars_that_leave = stars_that_leave + list(tmp)"
   ]
  },
  {
   "cell_type": "code",
   "execution_count": 11,
   "metadata": {
    "collapsed": false
   },
   "outputs": [
    {
     "name": "stdout",
     "output_type": "stream",
     "text": [
      "30\n"
     ]
    }
   ],
   "source": [
    "print(len(set(stars_that_leave)))"
   ]
  },
  {
   "cell_type": "markdown",
   "metadata": {},
   "source": [
    "So there are 30 stars that'll leave or go in and out of the cluster. Lets analyze their behavior over time."
   ]
  },
  {
   "cell_type": "code",
   "execution_count": null,
   "metadata": {
    "collapsed": false
   },
   "outputs": [
    {
     "name": "stdout",
     "output_type": "stream",
     "text": [
      "Populating the interactive namespace from numpy and matplotlib\n"
     ]
    },
    {
     "data": {
      "image/png": "[encoded data removed]",
      "text/plain": [
       "<matplotlib.figure.Figure at 0x7fc2c7a357b8>"
      ]
     },
     "metadata": {},
     "output_type": "display_data"
    }
   ],
   "source": [
    "%pylab inline\n",
    "from matplotlib import pyplot as plt\n",
    "from matplotlib import animation\n",
    "from mpl_toolkits.mplot3d import Axes3D\n",
    "import mpl_toolkits\n",
    "fig = plt.figure()\n",
    "ax = fig.add_subplot(111, projection='3d')\n",
    "scat = ax.scatter(snapshots[0]['x'], snapshots[0]['y'], snapshots[0]['z'])\n",
    "\n",
    "def update_plot(i, snapshots, scat):\n",
    "    s = snapshots[i]\n",
    "#     scat.set_3d_properties(s['x'],'x')\n",
    "#     scat.set_3d_properties(s['y'],'y')\n",
    "    scat.set_offsets([s['x'],s['y']])\n",
    "    scat.set_3d_properties(s['z'],'z')\n",
    "    return scat,\n",
    "# help(scat.set_array)\n",
    "ani = animation.FuncAnimation(fig, update_plot, frames=range(18), fargs=(snapshots, scat))\n",
    "plt.show()\n",
    "ani.save('basic_animation.mp4', fps=30, extra_args=['-vcodec', 'libx264'])"
   ]
  },
  {
   "cell_type": "code",
   "execution_count": null,
   "metadata": {
    "collapsed": false
   },
   "outputs": [],
   "source": [
    "color_data = np.random.random((100, 10))\n",
    "color_data"
   ]
  },
  {
   "cell_type": "code",
   "execution_count": null,
   "metadata": {
    "collapsed": false
   },
   "outputs": [],
   "source": [
    "def main():\n",
    "    numframes = 100\n",
    "    numpoints = 10\n",
    "    color_data = np.random.random((numframes, numpoints))\n",
    "    x, y, z = np.random.random((3, numpoints))\n",
    "\n",
    "    fig = plt.figure()\n",
    "    ax = fig.add_subplot(111, projection='3d')\n",
    "    scat = ax.scatter(x, y, z)\n",
    "\n",
    "    ani = animation.FuncAnimation(fig, update_plot, frames=range(numframes),\n",
    "                                  fargs=(color_data, scat))\n",
    "    plt.show()\n",
    "\n",
    "def update_plot(i, data, scat):\n",
    "    scat.set_3d_properties(data[i],'x')\n",
    "    scat.set_3d_properties(data[i],'y')\n",
    "    scat.set_3d_properties(data[i],'z')\n",
    "#     scat.set_array(data[i])\n",
    "    return scat,\n",
    "\n",
    "main()"
   ]
  },
  {
   "cell_type": "code",
   "execution_count": null,
   "metadata": {
    "collapsed": true
   },
   "outputs": [],
   "source": []
  },
  {
   "cell_type": "code",
   "execution_count": null,
   "metadata": {
    "collapsed": true
   },
   "outputs": [],
   "source": []
  }
 ],
 "metadata": {
  "kernelspec": {
   "display_name": "Python 3",
   "language": "python",
   "name": "python3"
  },
  "language_info": {
   "codemirror_mode": {
    "name": "ipython",
    "version": 3
   },
   "file_extension": ".py",
   "mimetype": "text/x-python",
   "name": "python",
   "nbconvert_exporter": "python",
   "pygments_lexer": "ipython3",
   "version": "3.5.2"
  }
 },
 "nbformat": 4,
 "nbformat_minor": 2
}
